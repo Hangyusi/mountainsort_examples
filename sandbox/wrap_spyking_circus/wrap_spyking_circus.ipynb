{
 "cells": [
  {
   "cell_type": "code",
   "execution_count": null,
   "metadata": {},
   "outputs": [],
   "source": [
    "# For development purposes, reload imported modules when source changes\n",
    "%load_ext autoreload\n",
    "%autoreload 2\n",
    "\n",
    "def append_to_path(dir0): # A convenience function\n",
    "    if dir0 not in sys.path:\n",
    "        sys.path.append(dir0)\n",
    "\n",
    "# standard imports\n",
    "import os, sys, json\n",
    "import numpy as np\n",
    "from matplotlib import pyplot as plt\n",
    "\n",
    "# mountainlab imports\n",
    "from mountainlab_pytools import mlproc as mlp\n",
    "from mountainlab_pytools import mdaio\n",
    "import spikeforestwidgets as SFW\n",
    "\n",
    "# imports from this repo\n",
    "append_to_path(os.getcwd()+'/../../python')\n",
    "from synthesize_dataset import synthesize_dataset # Synthesize a test dataset\n",
    "from validate_sorting_results import validate_sorting_results # Validation processors"
   ]
  },
  {
   "cell_type": "code",
   "execution_count": null,
   "metadata": {},
   "outputs": [],
   "source": [
    "#######################################\n",
    "# Initialize the pipeline object\n",
    "#######################################\n",
    "\n",
    "Pipeline=mlp.initPipeline()"
   ]
  },
  {
   "cell_type": "code",
   "execution_count": null,
   "metadata": {},
   "outputs": [],
   "source": [
    "# Make synthetic ephys data and create output directory\n",
    "dsdir=os.getcwd()+'/dataset'\n",
    "with Pipeline:\n",
    "    synthesize_dataset(dsdir,M=4,duration=60,average_snr=8,K=5)\n",
    "    \n",
    "output_base_dir=os.getcwd()+'/output'\n",
    "if not os.path.exists(output_base_dir):\n",
    "    os.mkdir(output_base_dir)"
   ]
  },
  {
   "cell_type": "code",
   "execution_count": null,
   "metadata": {},
   "outputs": [],
   "source": [
    "Pipeline=mlp.initPipeline()"
   ]
  },
  {
   "cell_type": "code",
   "execution_count": null,
   "metadata": {},
   "outputs": [],
   "source": [
    "#dsdir='dataset'\n",
    "dsdir='kbucket://b5ecdf1474c5/datasets/neuron_paper/synth_K30'\n",
    "\n",
    "with Pipeline:\n",
    "    mlp.addProcess(\n",
    "        'spyking_circus.sort',\n",
    "        dict(\n",
    "            timeseries=dsdir+'/raw.mda',\n",
    "            geom=dsdir+'/geom.csv'\n",
    "        ),\n",
    "        dict(\n",
    "            firings_out='output/firings.mda'\n",
    "        ),\n",
    "        dict(\n",
    "            samplerate=30000,\n",
    "            spike_thresh=4,\n",
    "            detect_sign=1,\n",
    "            adjacency_radius=30\n",
    "        )\n",
    "    )"
   ]
  },
  {
   "cell_type": "code",
   "execution_count": null,
   "metadata": {},
   "outputs": [],
   "source": [
    "Pipeline=mlp.initPipeline()"
   ]
  },
  {
   "cell_type": "code",
   "execution_count": null,
   "metadata": {},
   "outputs": [],
   "source": [
    "with Pipeline:\n",
    "    A=validate_sorting_results(dataset_dir=dsdir,sorting_output_dir='output',output_dir='output')\n",
    "    amplitudes_true=A['amplitudes_true']\n",
    "    accuracies=A['accuracies']"
   ]
  },
  {
   "cell_type": "code",
   "execution_count": null,
   "metadata": {},
   "outputs": [],
   "source": [
    "# Plot the comparison with ground truth\n",
    "plt.plot(amplitudes_true,accuracies,'.')\n",
    "plt.xlabel('Amplitude')\n",
    "plt.ylabel('Accuracy');\n",
    "plt.title('Accuracy vs. amplitude for {}'.format('simulated data'))"
   ]
  },
  {
   "cell_type": "code",
   "execution_count": null,
   "metadata": {},
   "outputs": [],
   "source": []
  }
 ],
 "metadata": {
  "kernelspec": {
   "display_name": "Python 3",
   "language": "python",
   "name": "python3"
  },
  "language_info": {
   "codemirror_mode": {
    "name": "ipython",
    "version": 3
   },
   "file_extension": ".py",
   "mimetype": "text/x-python",
   "name": "python",
   "nbconvert_exporter": "python",
   "pygments_lexer": "ipython3",
   "version": "3.6.2"
  }
 },
 "nbformat": 4,
 "nbformat_minor": 2
}
