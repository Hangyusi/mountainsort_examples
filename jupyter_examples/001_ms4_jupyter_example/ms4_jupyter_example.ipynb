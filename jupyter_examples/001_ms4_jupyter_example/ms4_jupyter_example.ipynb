{
 "cells": [
  {
   "cell_type": "markdown",
   "metadata": {},
   "source": [
    "# Spike sorting using MountainSort\n",
    "\n",
    "First you must install MountainLab and MountainSort according to the installation instructions in this repository. Be sure to also install the required JupyterLab extensions and spikeforestwidgets as described in those docs.\n",
    "\n",
    "This notebook will run processing on the local machine (or the machine running jupyterlab)."
   ]
  },
  {
   "cell_type": "markdown",
   "metadata": {},
   "source": [
    "## First import some python modules"
   ]
  },
  {
   "cell_type": "code",
   "execution_count": null,
   "metadata": {},
   "outputs": [],
   "source": [
    "#######################################\n",
    "# imports and initialization\n",
    "#######################################\n",
    "\n",
    "# For development purposes, reload imported modules when source changes\n",
    "%load_ext autoreload\n",
    "%autoreload 2\n",
    "\n",
    "def append_to_path(dir0): # A convenience function\n",
    "    if dir0 not in sys.path:\n",
    "        sys.path.append(dir0)\n",
    "\n",
    "# standard imports\n",
    "import os, sys, json\n",
    "import numpy as np\n",
    "from matplotlib import pyplot as plt\n",
    "\n",
    "# mountainlab imports\n",
    "from mountainlab_pytools import mlproc as mlp\n",
    "from mountainlab_pytools import mdaio\n",
    "import spikeforestwidgets as SFW\n",
    "\n",
    "# imports from this repo\n",
    "append_to_path(os.getcwd()+'/../../python')\n",
    "from mountainsort4_1_0 import sort_dataset as ms4_sort_dataset # MountainSort spike sorting\n",
    "from validate_sorting_results import validate_sorting_results # Validation processors\n",
    "from synthesize_dataset import synthesize_dataset # Synthesize a test dataset"
   ]
  },
  {
   "cell_type": "markdown",
   "metadata": {},
   "source": [
    "## Initialize the pipeline object and job monitor widget"
   ]
  },
  {
   "cell_type": "code",
   "execution_count": null,
   "metadata": {},
   "outputs": [],
   "source": [
    "#######################################\n",
    "# Initialize the pipeline object\n",
    "#######################################\n",
    "\n",
    "Pipeline=mlp.initPipeline()"
   ]
  },
  {
   "cell_type": "markdown",
   "metadata": {},
   "source": [
    "## Create the synthetic dataset\n",
    "\n",
    "This will go into a new directory called `dataset/`"
   ]
  },
  {
   "cell_type": "code",
   "execution_count": null,
   "metadata": {},
   "outputs": [],
   "source": [
    "# Make synthetic ephys data and create output directory\n",
    "dsdir=os.getcwd()+'/dataset'\n",
    "with Pipeline:\n",
    "    synthesize_dataset(dsdir,M=4,duration=600,average_snr=8)"
   ]
  },
  {
   "cell_type": "code",
   "execution_count": null,
   "metadata": {},
   "outputs": [],
   "source": [
    "dsdir=os.getcwd()+'/dataset'\n",
    "output_base_dir=os.getcwd()+'/output2'\n",
    "if not os.path.exists(output_base_dir):\n",
    "    os.mkdir(output_base_dir)"
   ]
  },
  {
   "cell_type": "code",
   "execution_count": null,
   "metadata": {},
   "outputs": [],
   "source": [
    "## Note that the following does not work yet when using the local computer for computation\n",
    "## because I have not yet exposed the file system to the javascript widget\n",
    "\n",
    "#SFW.viewDataset(directory=dsdir)"
   ]
  },
  {
   "cell_type": "markdown",
   "metadata": {},
   "source": [
    "## Run the spike sorting and comparison with ground truth\n",
    "\n",
    "The output will go into a new directory called `output/`"
   ]
  },
  {
   "cell_type": "code",
   "execution_count": null,
   "metadata": {},
   "outputs": [],
   "source": [
    "#######################################\n",
    "# RUN THE PIPELINE\n",
    "#######################################\n",
    "#from ironclust_sort import sort_dataset as ironclust_sort_dataset\n",
    "\n",
    "output_dir=output_base_dir+'/ms4'\n",
    "with Pipeline:\n",
    "    #ironclust_sort_dataset(dataset_dir=dsdir,output_dir=output_dir,adjacency_radius=-1,detect_threshold=3)\n",
    "    ms4_sort_dataset(dataset_dir=dsdir,output_dir=output_dir,adjacency_radius=-1,detect_threshold=3)\n",
    "    A=validate_sorting_results(dataset_dir=dsdir,sorting_output_dir=output_dir,output_dir=output_dir)\n",
    "    amplitudes_true=A['amplitudes_true']\n",
    "    accuracies=A['accuracies']"
   ]
  },
  {
   "cell_type": "markdown",
   "metadata": {},
   "source": [
    "## Plot the comparison with ground truth"
   ]
  },
  {
   "cell_type": "code",
   "execution_count": null,
   "metadata": {},
   "outputs": [],
   "source": [
    "# Plot the comparison with ground truth\n",
    "plt.plot(amplitudes_true,accuracies,'.')\n",
    "plt.xlabel('Amplitude')\n",
    "plt.ylabel('Accuracy');\n",
    "plt.title('Accuracy vs. amplitude for {}'.format('simulated data'))"
   ]
  }
 ],
 "metadata": {
  "kernelspec": {
   "display_name": "Python 3",
   "language": "python",
   "name": "python3"
  },
  "language_info": {
   "codemirror_mode": {
    "name": "ipython",
    "version": 3
   },
   "file_extension": ".py",
   "mimetype": "text/x-python",
   "name": "python",
   "nbconvert_exporter": "python",
   "pygments_lexer": "ipython3",
   "version": "3.6.2"
  }
 },
 "nbformat": 4,
 "nbformat_minor": 2
}
