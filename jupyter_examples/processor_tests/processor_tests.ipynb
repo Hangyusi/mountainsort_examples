{
 "cells": [
  {
   "cell_type": "markdown",
   "metadata": {},
   "source": [
    "## Processor tests\n",
    "\n",
    "Here we run some basic tests. Make sure you have MountainLab installed on the computer running this jupyter lab."
   ]
  },
  {
   "cell_type": "code",
   "execution_count": null,
   "metadata": {},
   "outputs": [],
   "source": [
    "#######################################\n",
    "# imports and initialization\n",
    "#######################################\n",
    "\n",
    "# For development purposes, reload imported modules when source changes\n",
    "%load_ext autoreload\n",
    "%autoreload 2\n",
    "\n",
    "# standard imports\n",
    "import os, sys, json\n",
    "import numpy as np\n",
    "from matplotlib import pyplot as plt\n",
    "\n",
    "# mountainlab imports\n",
    "from mountainlab_pytools import mlproc as mlp\n",
    "from mountainlab_pytools import mdaio\n",
    "\n",
    "# Imports from this directory\n",
    "dir0 = os.getcwd()\n",
    "if dir0 not in sys.path:\n",
    "    sys.path.append(dir0)\n",
    "from view_timeseries import view_timeseries"
   ]
  },
  {
   "cell_type": "code",
   "execution_count": null,
   "metadata": {},
   "outputs": [],
   "source": [
    "#######################################\n",
    "# Initialize the pipeline object\n",
    "#######################################\n",
    "Pipeline=mlp.initPipeline()"
   ]
  },
  {
   "cell_type": "code",
   "execution_count": null,
   "metadata": {},
   "outputs": [],
   "source": [
    "def test_mask_out_artifacts():\n",
    "    \n",
    "    # Create noisy array\n",
    "    samplerate = int(48e3)\n",
    "    duration = 30 # seconds\n",
    "    n_samples = samplerate*duration\n",
    "    noise_amplitude = 5\n",
    "    noise = noise_amplitude*np.random.normal(0,1,n_samples)\n",
    "    standard_dev = np.std(noise)\n",
    "    \n",
    "     # add three artefacts\n",
    "    n_artifacts = 3\n",
    "    artifacts = np.zeros_like(noise)\n",
    "    artifact_duration = int(0.2*samplerate) # samples\n",
    "    artifact_signal = np.zeros((n_artifacts, artifact_duration))\n",
    "\n",
    "    for i in np.arange(n_artifacts):                   \n",
    "        artifact_signal[i, :] = noise_amplitude*np.random.normal(0,6,artifact_duration)\n",
    "\n",
    "    artifact_indices = np.tile(np.arange(artifact_duration), (3,1))\n",
    "\n",
    "    artifact_shift = np.array([int(n_samples*0.10), int(n_samples*0.20), int(n_samples*0.70)])\n",
    "\n",
    "    artifact_indices += artifact_shift.reshape((-1,1))\n",
    "\n",
    "    for i, indices in enumerate(artifact_indices):\n",
    "        artifacts[indices] = artifact_signal[i,:]\n",
    "\n",
    "    signal = noise + artifacts\n",
    "\n",
    "    timeseries = 'test_mask.mda'\n",
    "    timeseries_out = 'masked.mda' \n",
    "    \n",
    "    # write as mda\n",
    "    mdaio.writemda32(signal.reshape((1,-1)), timeseries)\n",
    "    \n",
    "    # run the mask artefacts\n",
    "    mlp.addProcess(\n",
    "        'ephys.mask_out_artifacts',\n",
    "        dict(\n",
    "            timeseries=timeseries\n",
    "        ),\n",
    "        dict(\n",
    "            timeseries_out=timeseries_out\n",
    "        ),\n",
    "        dict(\n",
    "            chunk_size=2000,\n",
    "            threshold=6,\n",
    "            num_write_chunks=150,\n",
    "        ),\n",
    "        {}\n",
    "    )\n",
    "    mlp.runPipeline()\n",
    "\n",
    "    \n",
    "    # check that they are gone \n",
    "    read_data = mdaio.readmda(timeseries).reshape((-1,1))\n",
    "    masked_data = mdaio.readmda(timeseries_out).reshape((-1,1))\n",
    "\n",
    "    indices_masked = sum(masked_data[artifact_indices,0].flatten() == 0)\n",
    "    total_indices_to_mask = len(artifact_indices.flatten())\n",
    "    masked = indices_masked == total_indices_to_mask\n",
    "    \n",
    "    os.remove(timeseries)\n",
    "    os.remove(timeseries_out)\n",
    "    \n",
    "    view_timeseries(read_data.T, trange=[0,read_data.shape[0]])\n",
    "    view_timeseries(masked_data.T, trange=[0,masked_data.shape[0]])\n",
    "    \n",
    "    if masked:\n",
    "        print('Artifacts 100% masked')\n",
    "        return True\n",
    "    else:\n",
    "        print('Artifacts %.2f%% masked' % (100*(indices_masked/total_indices_to_mask)))\n",
    "        return False"
   ]
  },
  {
   "cell_type": "code",
   "execution_count": null,
   "metadata": {},
   "outputs": [],
   "source": [
    "with Pipeline:\n",
    "    test_mask_out_artifacts()"
   ]
  },
  {
   "cell_type": "code",
   "execution_count": null,
   "metadata": {},
   "outputs": [],
   "source": []
  }
 ],
 "metadata": {
  "kernelspec": {
   "display_name": "Python 3",
   "language": "python",
   "name": "python3"
  },
  "language_info": {
   "codemirror_mode": {
    "name": "ipython",
    "version": 3
   },
   "file_extension": ".py",
   "mimetype": "text/x-python",
   "name": "python",
   "nbconvert_exporter": "python",
   "pygments_lexer": "ipython3",
   "version": "3.6.2"
  }
 },
 "nbformat": 4,
 "nbformat_minor": 2
}
